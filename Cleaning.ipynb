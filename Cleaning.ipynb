{
 "cells": [
  {
   "cell_type": "code",
   "execution_count": 1,
   "metadata": {},
   "outputs": [],
   "source": [
    "import numpy as np\n",
    "import pandas as pd\n",
    "from datetime import datetime"
   ]
  },
  {
   "cell_type": "code",
   "execution_count": 2,
   "metadata": {},
   "outputs": [],
   "source": [
    "from datetime import datetime\n",
    "\n",
    "def dateparse(d,t):\n",
    "    dt = d + \" \" + t\n",
    "    return pd.datetime.strptime(dt, '%d/%m/%Y %H:%M:%S')\n",
    "\n",
    "df = pd.read_csv('OK2018Apr_tranV2.csv', parse_dates={'datetime': ['Date', 'Time']}, date_parser=dateparse)"
   ]
  },
  {
   "cell_type": "code",
   "execution_count": 3,
   "metadata": {},
   "outputs": [],
   "source": [
    "df['Hour'] = df['datetime'].apply(lambda x: x.hour)"
   ]
  },
  {
   "cell_type": "code",
   "execution_count": 4,
   "metadata": {},
   "outputs": [
    {
     "data": {
      "text/html": [
       "<div>\n",
       "<style scoped>\n",
       "    .dataframe tbody tr th:only-of-type {\n",
       "        vertical-align: middle;\n",
       "    }\n",
       "\n",
       "    .dataframe tbody tr th {\n",
       "        vertical-align: top;\n",
       "    }\n",
       "\n",
       "    .dataframe thead th {\n",
       "        text-align: right;\n",
       "    }\n",
       "</style>\n",
       "<table border=\"1\" class=\"dataframe\">\n",
       "  <thead>\n",
       "    <tr style=\"text-align: right;\">\n",
       "      <th></th>\n",
       "      <th>datetime</th>\n",
       "      <th>Store ID</th>\n",
       "      <th>Store Type</th>\n",
       "      <th>Trans ID</th>\n",
       "      <th>Member ID</th>\n",
       "      <th>Member Grade</th>\n",
       "      <th>Gender</th>\n",
       "      <th>Member Birthday</th>\n",
       "      <th>Dept</th>\n",
       "      <th>Cat</th>\n",
       "      <th>Subcat</th>\n",
       "      <th>Sold Qty</th>\n",
       "      <th>MOP</th>\n",
       "      <th>Amount</th>\n",
       "      <th>Hour</th>\n",
       "    </tr>\n",
       "  </thead>\n",
       "  <tbody>\n",
       "    <tr>\n",
       "      <th>2003</th>\n",
       "      <td>2018-04-01 12:53:05</td>\n",
       "      <td>27</td>\n",
       "      <td>HSR - HIGH STREET RESIDENTIAL</td>\n",
       "      <td>7235722870</td>\n",
       "      <td>NaN</td>\n",
       "      <td>NaN</td>\n",
       "      <td>NaN</td>\n",
       "      <td>NaN</td>\n",
       "      <td>Convenience Services</td>\n",
       "      <td>BATTERY CHARGE SERVICES</td>\n",
       "      <td>BATTERY CHARGE SERVICES(Genera</td>\n",
       "      <td>-1</td>\n",
       "      <td>Cash</td>\n",
       "      <td>0.0</td>\n",
       "      <td>12</td>\n",
       "    </tr>\n",
       "    <tr>\n",
       "      <th>2004</th>\n",
       "      <td>2018-04-01 12:53:06</td>\n",
       "      <td>27</td>\n",
       "      <td>HSR - HIGH STREET RESIDENTIAL</td>\n",
       "      <td>7235722870</td>\n",
       "      <td>NaN</td>\n",
       "      <td>NaN</td>\n",
       "      <td>NaN</td>\n",
       "      <td>NaN</td>\n",
       "      <td>Deposit</td>\n",
       "      <td>BATTERY CHARGE SERVICE(GER.)</td>\n",
       "      <td>(General)</td>\n",
       "      <td>-1</td>\n",
       "      <td>Cash</td>\n",
       "      <td>-130.0</td>\n",
       "      <td>12</td>\n",
       "    </tr>\n",
       "    <tr>\n",
       "      <th>3216</th>\n",
       "      <td>2018-04-01 19:02:56</td>\n",
       "      <td>27</td>\n",
       "      <td>HSR - HIGH STREET RESIDENTIAL</td>\n",
       "      <td>7235717927</td>\n",
       "      <td>NaN</td>\n",
       "      <td>NaN</td>\n",
       "      <td>NaN</td>\n",
       "      <td>NaN</td>\n",
       "      <td>Convenience Services</td>\n",
       "      <td>BATTERY CHARGE SERVICES</td>\n",
       "      <td>BATTERY CHARGE SERVICES(Genera</td>\n",
       "      <td>-1</td>\n",
       "      <td>Cash</td>\n",
       "      <td>0.0</td>\n",
       "      <td>19</td>\n",
       "    </tr>\n",
       "    <tr>\n",
       "      <th>3217</th>\n",
       "      <td>2018-04-01 19:02:57</td>\n",
       "      <td>27</td>\n",
       "      <td>HSR - HIGH STREET RESIDENTIAL</td>\n",
       "      <td>7235717927</td>\n",
       "      <td>NaN</td>\n",
       "      <td>NaN</td>\n",
       "      <td>NaN</td>\n",
       "      <td>NaN</td>\n",
       "      <td>Deposit</td>\n",
       "      <td>BATTERY CHARGE SERVICE(GER.)</td>\n",
       "      <td>(General)</td>\n",
       "      <td>-1</td>\n",
       "      <td>Cash</td>\n",
       "      <td>-130.0</td>\n",
       "      <td>19</td>\n",
       "    </tr>\n",
       "    <tr>\n",
       "      <th>6624</th>\n",
       "      <td>2018-04-02 14:23:38</td>\n",
       "      <td>27</td>\n",
       "      <td>HSR - HIGH STREET RESIDENTIAL</td>\n",
       "      <td>7235707429</td>\n",
       "      <td>NaN</td>\n",
       "      <td>NaN</td>\n",
       "      <td>NaN</td>\n",
       "      <td>NaN</td>\n",
       "      <td>Packaged Beverage</td>\n",
       "      <td>Tea</td>\n",
       "      <td>Bottle</td>\n",
       "      <td>-1</td>\n",
       "      <td>Cash</td>\n",
       "      <td>-15.9</td>\n",
       "      <td>14</td>\n",
       "    </tr>\n",
       "  </tbody>\n",
       "</table>\n",
       "</div>"
      ],
      "text/plain": [
       "                datetime  Store ID                     Store Type    Trans ID  \\\n",
       "2003 2018-04-01 12:53:05        27  HSR - HIGH STREET RESIDENTIAL  7235722870   \n",
       "2004 2018-04-01 12:53:06        27  HSR - HIGH STREET RESIDENTIAL  7235722870   \n",
       "3216 2018-04-01 19:02:56        27  HSR - HIGH STREET RESIDENTIAL  7235717927   \n",
       "3217 2018-04-01 19:02:57        27  HSR - HIGH STREET RESIDENTIAL  7235717927   \n",
       "6624 2018-04-02 14:23:38        27  HSR - HIGH STREET RESIDENTIAL  7235707429   \n",
       "\n",
       "      Member ID Member Grade Gender Member Birthday                  Dept  \\\n",
       "2003        NaN          NaN    NaN             NaN  Convenience Services   \n",
       "2004        NaN          NaN    NaN             NaN               Deposit   \n",
       "3216        NaN          NaN    NaN             NaN  Convenience Services   \n",
       "3217        NaN          NaN    NaN             NaN               Deposit   \n",
       "6624        NaN          NaN    NaN             NaN     Packaged Beverage   \n",
       "\n",
       "                                 Cat                          Subcat  \\\n",
       "2003  BATTERY CHARGE SERVICES         BATTERY CHARGE SERVICES(Genera   \n",
       "2004  BATTERY CHARGE SERVICE(GER.)    (General)                        \n",
       "3216  BATTERY CHARGE SERVICES         BATTERY CHARGE SERVICES(Genera   \n",
       "3217  BATTERY CHARGE SERVICE(GER.)    (General)                        \n",
       "6624  Tea                             Bottle                           \n",
       "\n",
       "      Sold Qty   MOP  Amount  Hour  \n",
       "2003        -1  Cash     0.0    12  \n",
       "2004        -1  Cash  -130.0    12  \n",
       "3216        -1  Cash     0.0    19  \n",
       "3217        -1  Cash  -130.0    19  \n",
       "6624        -1  Cash   -15.9    14  "
      ]
     },
     "execution_count": 4,
     "metadata": {},
     "output_type": "execute_result"
    }
   ],
   "source": [
    "df[df['Sold Qty']<0].head() "
   ]
  },
  {
   "cell_type": "code",
   "execution_count": 5,
   "metadata": {},
   "outputs": [
    {
     "name": "stdout",
     "output_type": "stream",
     "text": [
      "68.0\n"
     ]
    },
    {
     "data": {
      "text/plain": [
       " 0.0      478\n",
       "-130.0    415\n",
       "-50.0      83\n",
       "-7.5       75\n",
       "-57.0      70\n",
       "-8.0       63\n",
       "-9.0       56\n",
       "-8.5       53\n",
       "-11.0      48\n",
       "-11.5      42\n",
       "-10.0      34\n",
       "-8.9       24\n",
       "-7.2       24\n",
       "-9.5       24\n",
       " 1.0       22\n",
       "-11.9      22\n",
       "-10.9      22\n",
       "-16.9      19\n",
       "-13.5      18\n",
       "-19.9      17\n",
       "-12.0      16\n",
       " 2.0       16\n",
       "-6.1       16\n",
       "-20.0      16\n",
       "-18.0      15\n",
       "-55.0      15\n",
       "-25.5      15\n",
       "-13.0      14\n",
       "-6.0       14\n",
       "-9.9       14\n",
       "         ... \n",
       "-250.0      1\n",
       "-18.9       1\n",
       " 2.6        1\n",
       "-35.9       1\n",
       "-800.0      1\n",
       "-30.0       1\n",
       "-75.0       1\n",
       "-27.9       1\n",
       " 11.0       1\n",
       "-485.0      1\n",
       " 2.5        1\n",
       " 8.5        1\n",
       " 13.8       1\n",
       "-72.0       1\n",
       " 20.0       1\n",
       "-3.0        1\n",
       "-3.9        1\n",
       "-88.0       1\n",
       "-29.0       1\n",
       " 13.0       1\n",
       " 6.0        1\n",
       "-16.8       1\n",
       "-38.0       1\n",
       " 12.5       1\n",
       "-0.5        1\n",
       "-26.0       1\n",
       "-200.0      1\n",
       " 5.1        1\n",
       " 2.7        1\n",
       " 5.6        1\n",
       "Name: Amount, Length: 205, dtype: int64"
      ]
     },
     "execution_count": 5,
     "metadata": {},
     "output_type": "execute_result"
    }
   ],
   "source": [
    "print(df[df['Sold Qty']<0]['Amount'].max())\n",
    "\n",
    "df[df['Sold Qty']<0]['Amount'].value_counts()"
   ]
  },
  {
   "cell_type": "code",
   "execution_count": 6,
   "metadata": {},
   "outputs": [
    {
     "name": "stdout",
     "output_type": "stream",
     "text": [
      "1048575\n",
      "1046315\n"
     ]
    },
    {
     "data": {
      "text/plain": [
       " 8.0       114867\n",
       " 57.0       59334\n",
       " 0.0        58493\n",
       " 100.0      54484\n",
       "-1.0        51695\n",
       " 7.5        32049\n",
       " 8.5        30509\n",
       " 50.0       20980\n",
       " 10.0       20407\n",
       " 200.0      19999\n",
       " 9.0        18797\n",
       " 9.5        18611\n",
       " 11.5       18452\n",
       "-2.0        18266\n",
       " 11.0       18144\n",
       "-0.5        13466\n",
       "-5.0        12399\n",
       " 7.0        11619\n",
       " 10.5       11286\n",
       " 500.0      10927\n",
       " 6.0        10793\n",
       " 7.2         9883\n",
       " 10.9        9866\n",
       " 9.9         9048\n",
       " 11.9        8783\n",
       " 13.0        8711\n",
       " 13.5        8686\n",
       " 8.9         8535\n",
       " 16.9        8445\n",
       "-3.0         8028\n",
       "            ...  \n",
       " 428.9          1\n",
       " 431.1          1\n",
       " 169.6          1\n",
       " 430.1          1\n",
       " 4220.0         1\n",
       " 4232.0         1\n",
       " 104.6          1\n",
       " 1059.0         1\n",
       " 2112.0         1\n",
       " 251.6          1\n",
       " 696.4          1\n",
       " 1069.0         1\n",
       " 4277.0         1\n",
       " 1071.0         1\n",
       " 173.9          1\n",
       " 4285.0         1\n",
       " 1352.0         1\n",
       " 172.4          1\n",
       " 4309.5         1\n",
       " 4310.0         1\n",
       " 1078.5         1\n",
       " 1079.0         1\n",
       " 1081.0         1\n",
       " 231.2          1\n",
       " 4327.0         1\n",
       " 1680.1         1\n",
       " 4334.0         1\n",
       " 692.9          1\n",
       " 4340.0         1\n",
       " 127.2          1\n",
       "Name: Amount, Length: 3832, dtype: int64"
      ]
     },
     "execution_count": 6,
     "metadata": {},
     "output_type": "execute_result"
    }
   ],
   "source": [
    "df_posQty = df[df['Sold Qty']>0]\n",
    "print(len(df))\n",
    "print(len(df_posQty))\n",
    "\n",
    "df_posQty['Amount'].value_counts()"
   ]
  },
  {
   "cell_type": "code",
   "execution_count": 7,
   "metadata": {},
   "outputs": [
    {
     "data": {
      "text/plain": [
       "(807929, 15)"
      ]
     },
     "execution_count": 7,
     "metadata": {},
     "output_type": "execute_result"
    }
   ],
   "source": [
    "df_posQty_posAmount = df_posQty[df_posQty['Amount']>0]\n",
    "df_posQty_posAmount.shape"
   ]
  },
  {
   "cell_type": "code",
   "execution_count": 8,
   "metadata": {},
   "outputs": [
    {
     "data": {
      "text/plain": [
       "(179893, 15)"
      ]
     },
     "execution_count": 8,
     "metadata": {},
     "output_type": "execute_result"
    }
   ],
   "source": [
    "df_posQty_negAmount = df_posQty[df_posQty['Amount']<0]\n",
    "df_posQty_negAmount.shape"
   ]
  },
  {
   "cell_type": "code",
   "execution_count": 9,
   "metadata": {},
   "outputs": [
    {
     "data": {
      "text/plain": [
       "(58493, 15)"
      ]
     },
     "execution_count": 9,
     "metadata": {},
     "output_type": "execute_result"
    }
   ],
   "source": [
    "df_posQty_zeroAmount = df_posQty[df_posQty['Amount']==0]\n",
    "df_posQty_zeroAmount.shape"
   ]
  },
  {
   "cell_type": "code",
   "execution_count": 10,
   "metadata": {
    "scrolled": true
   },
   "outputs": [
    {
     "name": "stdout",
     "output_type": "stream",
     "text": [
      "<class 'pandas.core.frame.DataFrame'>\n",
      "RangeIndex: 1048575 entries, 0 to 1048574\n",
      "Data columns (total 15 columns):\n",
      "datetime           1048575 non-null datetime64[ns]\n",
      "Store ID           1048575 non-null int64\n",
      "Store Type         1048575 non-null object\n",
      "Trans ID           1048575 non-null int64\n",
      "Member ID          196515 non-null float64\n",
      "Member Grade       196502 non-null object\n",
      "Gender             189076 non-null object\n",
      "Member Birthday    171704 non-null object\n",
      "Dept               975135 non-null object\n",
      "Cat                975135 non-null object\n",
      "Subcat             974952 non-null object\n",
      "Sold Qty           1048575 non-null int64\n",
      "MOP                1048575 non-null object\n",
      "Amount             1048575 non-null float64\n",
      "Hour               1048575 non-null int64\n",
      "dtypes: datetime64[ns](1), float64(2), int64(4), object(8)\n",
      "memory usage: 120.0+ MB\n"
     ]
    }
   ],
   "source": [
    "df.info()"
   ]
  },
  {
   "cell_type": "code",
   "execution_count": 11,
   "metadata": {},
   "outputs": [
    {
     "data": {
      "text/plain": [
       "Publications             222370\n",
       "Convenience Services     168951\n",
       "Packaged Beverage        149745\n",
       "Tobacco                   79494\n",
       "NaN                       73440\n",
       "Confectionery & Snack     66122\n",
       "Dairy                     56207\n",
       "Beer & Mixed Drinks       50584\n",
       "Packaged Ice Cream        48400\n",
       "Food Service              35066\n",
       "Grocery                   28657\n",
       "A & P Expense             20635\n",
       "Full-baked Ambient        14937\n",
       "HOT & IN                  14598\n",
       "Non-Food                  13284\n",
       "Deposit                    3202\n",
       "Wine & Spirit              1396\n",
       "Instore Bakery              736\n",
       "Catering Item               637\n",
       "Store Use Items              71\n",
       "Gift Tin                     43\n",
       "Name: Dept, dtype: int64"
      ]
     },
     "execution_count": 11,
     "metadata": {},
     "output_type": "execute_result"
    }
   ],
   "source": [
    "df.Dept.value_counts(dropna=False)"
   ]
  },
  {
   "cell_type": "code",
   "execution_count": 12,
   "metadata": {},
   "outputs": [],
   "source": [
    "df_posQty_posAmount.to_csv('tran_posQty_posAmount.csv')"
   ]
  },
  {
   "cell_type": "code",
   "execution_count": 13,
   "metadata": {},
   "outputs": [],
   "source": [
    "df_posQty_negAmount.to_csv('tran_posQty_negAmount.csv')"
   ]
  },
  {
   "cell_type": "code",
   "execution_count": 14,
   "metadata": {},
   "outputs": [],
   "source": [
    "df_posQty_zeroAmount.to_csv('tran_posQty_zeroAmount.csv')"
   ]
  },
  {
   "cell_type": "code",
   "execution_count": null,
   "metadata": {},
   "outputs": [],
   "source": []
  }
 ],
 "metadata": {
  "kernelspec": {
   "display_name": "Python 3",
   "language": "python",
   "name": "python3"
  },
  "language_info": {
   "codemirror_mode": {
    "name": "ipython",
    "version": 3
   },
   "file_extension": ".py",
   "mimetype": "text/x-python",
   "name": "python",
   "nbconvert_exporter": "python",
   "pygments_lexer": "ipython3",
   "version": "3.6.5"
  }
 },
 "nbformat": 4,
 "nbformat_minor": 2
}
